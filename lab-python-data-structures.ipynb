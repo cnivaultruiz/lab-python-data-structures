{
 "cells": [
  {
   "cell_type": "markdown",
   "metadata": {
    "tags": []
   },
   "source": [
    "# Lab | Data Structures "
   ]
  },
  {
   "cell_type": "markdown",
   "metadata": {},
   "source": [
    "## Exercise: Managing Customer Orders\n",
    "\n",
    "As part of a business venture, you are starting an online store that sells various products. To ensure smooth operations, you need to develop a program that manages customer orders and inventory.\n",
    "\n",
    "Follow the steps below to complete the exercise:\n",
    "\n",
    "1. Define a list called `products` that contains the following items: \"t-shirt\", \"mug\", \"hat\", \"book\", \"keychain\".\n",
    "\n",
    "2. Create an empty dictionary called `inventory`.\n",
    "\n",
    "3. Ask the user to input the quantity of each product available in the inventory. Use the product names from the `products` list as keys in the `inventory` dictionary and assign the respective quantities as values.\n",
    "\n",
    "4. Create an empty set called `customer_orders`.\n",
    "\n",
    "5. Ask the user to input the name of three products that a customer wants to order (from those in the products list, meaning three products out of \"t-shirt\", \"mug\", \"hat\", \"book\" or \"keychain\". Add each product name to the `customer_orders` set.\n",
    "\n",
    "6. Print the products in the `customer_orders` set.\n",
    "\n",
    "7. Calculate the following order statistics:\n",
    "   - Total Products Ordered: The total number of products in the `customer_orders` set.\n",
    "   - Percentage of Products Ordered: The percentage of products ordered compared to the total available products.\n",
    "   \n",
    "   Store these statistics in a tuple called `order_status`.\n",
    "\n",
    "8. Print the order statistics using the following format:\n",
    "   ```\n",
    "   Order Statistics:\n",
    "   Total Products Ordered: <total_products_ordered>\n",
    "   Percentage of Products Ordered: <percentage_ordered>% \n",
    "   ```\n",
    "\n",
    "9. Update the inventory by subtracting 1 from the quantity of each product. Modify the `inventory` dictionary accordingly.\n",
    "\n",
    "10. Print the updated inventory, displaying the quantity of each product on separate lines.\n",
    "\n",
    "Solve the exercise by implementing the steps using the Python concepts of lists, dictionaries, sets, and basic input/output operations. "
   ]
  },
  {
   "cell_type": "code",
   "execution_count": null,
   "metadata": {},
   "outputs": [],
   "source": [
    "# products = [\"t-shirt\", \"mug\", \"hat\", \"book\", \"keychain\"]\n",
    "# inventory = {}\n",
    "# for element in products :\n",
    "#     qty = input(\"Please quantity of product {products}: \")"
   ]
  },
  {
   "cell_type": "code",
   "execution_count": 2,
   "metadata": {
    "scrolled": true
   },
   "outputs": [
    {
     "name": "stdout",
     "output_type": "stream",
     "text": [
      "Please quantity of product t-shirt: 4\n",
      "Please quantity of product mug: 6\n",
      "Please quantity of product hat: 5\n",
      "Please quantity of product book: 3\n",
      "Please quantity of product keychain: 2\n"
     ]
    }
   ],
   "source": [
    "products = [\"t-shirt\", \"mug\", \"hat\", \"book\", \"keychain\"]\n",
    "inventory = {}\n",
    "a = input(\"Please quantity of product t-shirt: \")\n",
    "b = input(\"Please quantity of product mug: \")\n",
    "c = input(\"Please quantity of product hat: \")\n",
    "d = input(\"Please quantity of product book: \")\n",
    "e = input(\"Please quantity of product keychain: \")\n"
   ]
  },
  {
   "cell_type": "code",
   "execution_count": 3,
   "metadata": {},
   "outputs": [
    {
     "name": "stdout",
     "output_type": "stream",
     "text": [
      "{'t-shirt': '4', 'mug': '6', 'hat': '5', 'book': '3', 'keychain': '2'}\n"
     ]
    }
   ],
   "source": [
    "inventory = {products[0] : a, products[1] : b, products[2] : c, products[3] : d, products[4] : e}\n",
    "print (inventory)"
   ]
  },
  {
   "cell_type": "code",
   "execution_count": 4,
   "metadata": {},
   "outputs": [
    {
     "name": "stdout",
     "output_type": "stream",
     "text": [
      "Please enter 1 product of the list t-shirt, mug, hat, book, keychain : book\n",
      "Please enter 1 product of the list t-shirt, mug, hat, book, keychain : hat\n",
      "Please enter 1 product of the list t-shirt, mug, hat, book, keychain : mug\n"
     ]
    }
   ],
   "source": [
    "customer_orders = set()\n",
    "customer_choice1 = input(\"Please enter 1 product of the list t-shirt, mug, hat, book, keychain : \")\n",
    "customer_choice2 = input(\"Please enter 1 product of the list t-shirt, mug, hat, book, keychain : \")\n",
    "customer_choice3 = input(\"Please enter 1 product of the list t-shirt, mug, hat, book, keychain : \")"
   ]
  },
  {
   "cell_type": "code",
   "execution_count": 5,
   "metadata": {},
   "outputs": [
    {
     "name": "stdout",
     "output_type": "stream",
     "text": [
      "{'mug', 'hat', 'book'}\n",
      "3\n",
      "60.0\n",
      "Order Statistics: Total Products Ordered:3 Percentage of Products Ordered :60.0 % \n"
     ]
    }
   ],
   "source": [
    "customer_orders.add(customer_choice1)\n",
    "customer_orders.add(customer_choice2)\n",
    "customer_orders.add(customer_choice3)\n",
    "print(customer_orders)\n",
    "total = len(customer_orders)\n",
    "print (total)\n",
    "stat = total /len(products)*100\n",
    "print (stat)\n",
    "order_status = (total, stat)\n",
    "# #print ('Order Statistics:',\n",
    "#        'Total Products Ordered:', total,\n",
    "#        'Percentage of Products Ordered :', stat, '%')\n",
    "print (f'Order Statistics: Total Products Ordered:{total} Percentage of Products Ordered :{stat} % ')"
   ]
  },
  {
   "cell_type": "code",
   "execution_count": 31,
   "metadata": {},
   "outputs": [
    {
     "name": "stdout",
     "output_type": "stream",
     "text": [
      "['1', '3', '4', '3', '4']\n",
      "[1, 3, 4, 3, 4]\n"
     ]
    }
   ],
   "source": [
    "new_inventory = (list(inventory.values()))\n",
    "print(new_inventory)\n",
    "int_list = list(map(int, new_inventory))\n",
    "print(int_list)"
   ]
  },
  {
   "cell_type": "code",
   "execution_count": 46,
   "metadata": {},
   "outputs": [
    {
     "name": "stdout",
     "output_type": "stream",
     "text": [
      "[0, 2, 3, 2, 3]\n"
     ]
    }
   ],
   "source": [
    "new_inventory = (list(map(int,inventory.values())))\n",
    "new_inventory2 = []\n",
    "for x in new_inventory :\n",
    "        new_inventory2.append(x-1)\n",
    "print (new_inventory2)"
   ]
  },
  {
   "cell_type": "code",
   "execution_count": 48,
   "metadata": {},
   "outputs": [
    {
     "name": "stdout",
     "output_type": "stream",
     "text": [
      "dict_items([('t-shirt', 0), ('mug', 2), ('hat', 2), ('book', 2), ('keychain', 3)])\n"
     ]
    }
   ],
   "source": [
    "inventory = {products[0] : new_inventory2[0], products[1] : new_inventory2[1], products[2] : new_inventory2[3], products[3] : new_inventory2[3], products[4] : new_inventory2[4]}\n",
    "print (inventory.items())"
   ]
  },
  {
   "cell_type": "code",
   "execution_count": 52,
   "metadata": {},
   "outputs": [
    {
     "name": "stdout",
     "output_type": "stream",
     "text": [
      "a \n",
      " b\n"
     ]
    }
   ],
   "source": [
    "print ('a \\n b')"
   ]
  },
  {
   "cell_type": "code",
   "execution_count": 58,
   "metadata": {},
   "outputs": [
    {
     "name": "stdout",
     "output_type": "stream",
     "text": [
      "('t-shirt', 0)\n",
      "\n",
      "\n",
      "('mug', 2)\n",
      "\n",
      "\n",
      "('hat', 2)\n",
      "\n",
      "\n",
      "('book', 2)\n",
      "\n",
      "\n",
      "('keychain', 3)\n",
      "\n",
      "\n"
     ]
    }
   ],
   "source": [
    "for element in inventory.items() :\n",
    "    print(element)\n",
    "    print('\\n')"
   ]
  },
  {
   "cell_type": "code",
   "execution_count": null,
   "metadata": {},
   "outputs": [],
   "source": []
  }
 ],
 "metadata": {
  "kernelspec": {
   "display_name": "Python 3 (ipykernel)",
   "language": "python",
   "name": "python3"
  },
  "language_info": {
   "codemirror_mode": {
    "name": "ipython",
    "version": 3
   },
   "file_extension": ".py",
   "mimetype": "text/x-python",
   "name": "python",
   "nbconvert_exporter": "python",
   "pygments_lexer": "ipython3",
   "version": "3.11.7"
  }
 },
 "nbformat": 4,
 "nbformat_minor": 4
}
